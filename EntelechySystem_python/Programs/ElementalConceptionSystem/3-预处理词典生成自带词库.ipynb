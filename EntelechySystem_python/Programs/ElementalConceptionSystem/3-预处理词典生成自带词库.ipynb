{
 "cells": [
  {
   "cell_type": "markdown",
   "id": "3d553d6b2b89f09e",
   "metadata": {},
   "source": [
    "# 预处理文本数据"
   ]
  },
  {
   "cell_type": "code",
   "id": "7a29faaede9a77ce",
   "metadata": {
    "ExecuteTime": {
     "end_time": "2024-12-03T02:09:05.403007Z",
     "start_time": "2024-12-03T02:09:04.723107Z"
    }
   },
   "source": [
    "from pathlib import Path\n",
    "import pandas as pd\n",
    "import re\n",
    "import sqlite3\n",
    "# import openpyxl\n"
   ],
   "outputs": [],
   "execution_count": 1
  },
  {
   "cell_type": "markdown",
   "id": "ce2155b194a13a3d",
   "metadata": {},
   "source": [
    "## 配置路径"
   ]
  },
  {
   "cell_type": "code",
   "id": "753ad10ef5bca631",
   "metadata": {
    "ExecuteTime": {
     "end_time": "2024-12-03T02:09:06.071655Z",
     "start_time": "2024-12-03T02:09:06.068679Z"
    }
   },
   "source": [
    "# 配置数据集基本路径\n",
    "folderpath_original_data_root = Path.cwd().parent.parent.parent.joinpath('EntelechyData/original')\n",
    "Path.mkdir(folderpath_original_data_root, exist_ok=True)\n",
    "\n",
    "folderpath_pretreat_data_root = Path.cwd().parent.parent.parent.joinpath('EntelechyData/pretreatment')\n",
    "Path.mkdir(folderpath_pretreat_data_root, exist_ok=True)\n",
    "\n",
    "# 配置数据集路径\n",
    "folderpath_pretreat_现代汉语词典 = Path(folderpath_pretreat_data_root, f'现代汉语词典')\n",
    "folderpath_pretreat_新华字典 = Path(folderpath_pretreat_data_root, f'新华字典')\n",
    "folderpath_pretreat_现代汉语常用字符集 = Path(folderpath_pretreat_data_root, f'现代汉语常用字符集')\n"
   ],
   "outputs": [],
   "execution_count": 2
  },
  {
   "cell_type": "markdown",
   "id": "128d268beab95ceb",
   "metadata": {},
   "source": [
    "## 导入预处理的词库数据"
   ]
  },
  {
   "cell_type": "markdown",
   "id": "796d17d3",
   "metadata": {},
   "source": [
    "### 导入 sqlite 数据库"
   ]
  },
  {
   "cell_type": "code",
   "id": "2d4463d68c34eef9",
   "metadata": {
    "ExecuteTime": {
     "end_time": "2024-11-30T04:06:24.118823Z",
     "start_time": "2024-11-30T04:06:24.116006Z"
    }
   },
   "source": [
    "# 导入 sqlite 数据库\n",
    "conn_现代汉语词典 = sqlite3.connect(Path(folderpath_pretreat_现代汉语词典, '现代汉语词典.db'))\n",
    "conn_新华字典 = sqlite3.connect(Path(folderpath_pretreat_新华字典, '新华字典.db'))\n"
   ],
   "outputs": [],
   "execution_count": 13
  },
  {
   "cell_type": "markdown",
   "id": "10c6f5cf",
   "metadata": {},
   "source": [
    "### 导入 pandas 数据"
   ]
  },
  {
   "cell_type": "code",
   "id": "5548793d",
   "metadata": {
    "ExecuteTime": {
     "end_time": "2024-12-03T02:09:10.015036Z",
     "start_time": "2024-12-03T02:09:09.757995Z"
    }
   },
   "source": [
    "# 读取新华字典 pandas 数据库内容\n",
    "df_新华字典 = pd.read_pickle(Path(folderpath_pretreat_新华字典, '新华字典.pkl'))\n",
    "# 读取现代汉语词典 pandas 数据库内容\n",
    "df_现代汉语词典 = pd.read_pickle(Path(folderpath_pretreat_现代汉语词典, '现代汉语词典.pkl'))\n",
    "df_现代汉语常用字符集 = pd.read_pickle(Path(folderpath_pretreat_现代汉语常用字符集, '现代汉语常用字符集.pkl'))"
   ],
   "outputs": [],
   "execution_count": 3
  },
  {
   "cell_type": "markdown",
   "id": "d6e7f2e16752598f",
   "metadata": {},
   "source": [
    "## 导入自定义的初始的基础概念库 "
   ]
  },
  {
   "cell_type": "markdown",
   "id": "ad0976fbddd8f016",
   "metadata": {},
   "source": [
    "### 初始化自定义的初始的基础概念库"
   ]
  },
  {
   "cell_type": "code",
   "id": "2211f2f6bbd504a9",
   "metadata": {
    "ExecuteTime": {
     "end_time": "2024-12-03T02:37:57.130661Z",
     "start_time": "2024-12-03T02:37:57.123210Z"
    }
   },
   "source": [
    "# 初始化自定义的初始的基础概念库\n",
    "df_基础概念_现代汉语字符库 = pd.DataFrame(\n",
    "    columns=['uid', 'id_概念', 'name_概念', '内容_010', '基础类别', '是否常用字', '备注'])\n",
    "df_基础概念_现代汉语词库 = pd.DataFrame(columns=['uid', 'id_概念', 'name_概念', '内容_010', '是否常用词', '备注'])\n",
    "\n",
    "df_基础概念_现代汉语字符库['内容_010'] = df_新华字典['word']  # 导入新华字典 pandas 数据库内容到自定义的初始的基础概念库\n",
    "df_基础概念_现代汉语字符库['基础类别'] = '汉字集'\n",
    "df_基础概念_现代汉语字符库['是否常用字'] = '否'\n"
   ],
   "outputs": [],
   "execution_count": 16
  },
  {
   "cell_type": "markdown",
   "id": "d48505bc",
   "metadata": {},
   "source": [
    "### 【df_基础概念_现代汉语字符库】 标记常用字"
   ]
  },
  {
   "cell_type": "code",
   "id": "a877563b2adddc55",
   "metadata": {
    "ExecuteTime": {
     "end_time": "2024-12-03T02:38:03.380872Z",
     "start_time": "2024-12-03T02:37:59.175564Z"
    }
   },
   "source": [
    "# 标记常用字\n",
    "for index, row in df_现代汉语常用字符集.iterrows():\n",
    "    if row['类别'] == '汉字集':\n",
    "        if row['字符'] in df_基础概念_现代汉语字符库['内容_010'].values:\n",
    "            index_02 = df_基础概念_现代汉语字符库[df_基础概念_现代汉语字符库['内容_010'] == row['字符']].index[0]\n",
    "            df_基础概念_现代汉语字符库.loc[index_02, '是否常用字'] = '是'\n",
    "            df_基础概念_现代汉语字符库.loc[index_02, '备注'] = f\"现代汉语常用字【{row['字符']}】\"\n"
   ],
   "outputs": [],
   "execution_count": 17
  },
  {
   "cell_type": "code",
   "id": "1079650226141d8c",
   "metadata": {
    "ExecuteTime": {
     "end_time": "2024-12-03T02:38:31.041187Z",
     "start_time": "2024-12-03T02:38:28.639277Z"
    }
   },
   "source": [
    "df_基础概念_现代汉语字符库 = df_基础概念_现代汉语字符库.copy()\n",
    "# 插入非汉字集的字符\n",
    "for index, row in df_现代汉语常用字符集.iterrows():\n",
    "    if row['类别'] != '汉字集':\n",
    "        df_基础概念_现代汉语字符库 = pd.concat(\n",
    "            [\n",
    "                df_基础概念_现代汉语字符库,\n",
    "                pd.DataFrame({\n",
    "                    '内容_010': [row['字符']],\n",
    "                    '基础类别': [row['类别']],\n",
    "                    '是否常用字': ['是'],\n",
    "                    '备注': row['备注'],\n",
    "                })\n",
    "            ]\n",
    "        )\n"
   ],
   "outputs": [],
   "execution_count": 20
  },
  {
   "metadata": {},
   "cell_type": "code",
   "outputs": [],
   "execution_count": null,
   "source": "# 添加备注\n",
   "id": "e708ffb760ca9510"
  },
  {
   "cell_type": "code",
   "id": "30767576",
   "metadata": {
    "ExecuteTime": {
     "end_time": "2024-12-03T02:38:33.623253Z",
     "start_time": "2024-12-03T02:38:33.617774Z"
    }
   },
   "source": [
    "df_基础概念_现代汉语字符库['基础类别'].unique()"
   ],
   "outputs": [
    {
     "data": {
      "text/plain": [
       "array(['汉字集', '中文字符集', '英文标点符号和字符集', '英文特殊符号集', '英文字符集', '数字集'],\n",
       "      dtype=object)"
      ]
     },
     "execution_count": 21,
     "metadata": {},
     "output_type": "execute_result"
    }
   ],
   "execution_count": 21
  },
  {
   "cell_type": "code",
   "id": "8c733a7e",
   "metadata": {
    "ExecuteTime": {
     "end_time": "2024-12-03T02:38:36.055607Z",
     "start_time": "2024-12-03T02:38:36.043137Z"
    }
   },
   "source": [
    "# 自定义基础类别的排序顺序\n",
    "\n",
    "category_order = ['数字集', '英文字符集', '英文特殊符号集', '英文标点符号和字符集', '中文字符集', '汉字集']\n",
    "\n",
    "# 按照是否常用字排序。优先按照基础类别排序，再按照是否常用字排序。其中基础类别按照自定义顺序排序\n",
    "df_基础概念_现代汉语字符库['基础类别'] = pd.Categorical(df_基础概念_现代汉语字符库['基础类别'],\n",
    "                                                        categories=category_order, ordered=True)\n",
    "df_基础概念_现代汉语字符库 = df_基础概念_现代汉语字符库.sort_values(by=['基础类别', '是否常用字'],\n",
    "                                                                    ascending=[True, False])"
   ],
   "outputs": [],
   "execution_count": 22
  },
  {
   "cell_type": "code",
   "id": "eb3ca77d",
   "metadata": {
    "ExecuteTime": {
     "end_time": "2024-12-03T02:38:36.506623Z",
     "start_time": "2024-12-03T02:38:36.503941Z"
    }
   },
   "source": [
    "df_基础概念_现代汉语字符库['id_概念'] = df_基础概念_现代汉语字符库.index\n",
    "df_基础概念_现代汉语字符库['uid'] = df_基础概念_现代汉语字符库.index\n",
    "\n",
    "df_基础概念_现代汉语字符库.set_index('uid', inplace=True)  # 设置 index\n"
   ],
   "outputs": [],
   "execution_count": 23
  },
  {
   "cell_type": "markdown",
   "id": "81fb08cd",
   "metadata": {},
   "source": [
    "### 导出现代汉语字符库原始概念库"
   ]
  },
  {
   "cell_type": "code",
   "id": "ba3447f2",
   "metadata": {
    "ExecuteTime": {
     "end_time": "2024-12-03T02:38:38.624629Z",
     "start_time": "2024-12-03T02:38:38.599815Z"
    }
   },
   "source": [
    "folderpath_original_conceptions = folderpath_pretreat_data_root = Path.cwd().parent.parent.parent.joinpath(\n",
    "    'EntelechyData/conceptions')\n",
    "Path.mkdir(folderpath_original_conceptions, exist_ok=True)\n",
    "# 导出为 pickle 文件\n",
    "df_基础概念_现代汉语字符库.to_pickle(Path(folderpath_original_conceptions, '基础概念_现代汉语字符库.pkl'))\n",
    "# 导出为 csv 文件\n",
    "df_基础概念_现代汉语字符库.to_csv(Path(folderpath_original_conceptions, '基础概念_现代汉语字符库.csv'))\n",
    "# # 导出为 sqlite 数据库\n",
    "# df_基础概念_现代汉语字符库.to_sql('基础概念_现代汉语字符库', conn_现代汉语词典, if_exists='replace', index=True)\n",
    "# # 导出为 xlsx 文件\n",
    "# df_基础概念_现代汉语字符库.to_excel(Path(folderpath_original_conceptions, '基础概念_现代汉语字符库.xlsx'), index=True)"
   ],
   "outputs": [],
   "execution_count": 24
  },
  {
   "cell_type": "markdown",
   "id": "8c32c644",
   "metadata": {},
   "source": [
    "### 初始化基础概念库的现代汉语词库（后续在CIS处理）"
   ]
  },
  {
   "cell_type": "code",
   "id": "0a78f206",
   "metadata": {
    "ExecuteTime": {
     "end_time": "2024-11-30T04:06:30.739340Z",
     "start_time": "2024-11-30T04:06:30.737523Z"
    }
   },
   "source": [
    "# # 初始化自定义的初始的基础概念库\n",
    "# df_基础概念_现代汉语字符库 = pd.DataFrame(\n",
    "#     columns=['uid', 'id_概念', 'name_概念', '内容_010', '基础类别', '是否常用字', '备注'])\n",
    "# df_基础概念_现代汉语词库 = pd.DataFrame(columns=['uid', 'id_概念', 'name_概念', '内容_010', '是否常用词', '备注'])\n",
    "\n",
    "# df_基础概念_现代汉语字符库['内容_010'] = df_新华字典['word']  # 导入新华字典 pandas 数据库内容到自定义的初始的基础概念库\n",
    "# df_基础概念_现代汉语字符库['基础类别'] = '汉字集'\n",
    "# df_基础概念_现代汉语字符库['是否常用字'] = '否'\n"
   ],
   "outputs": [],
   "execution_count": 22
  }
 ],
 "metadata": {
  "kernelspec": {
   "display_name": "venv",
   "language": "python",
   "name": "python3"
  },
  "language_info": {
   "codemirror_mode": {
    "name": "ipython",
    "version": 3
   },
   "file_extension": ".py",
   "mimetype": "text/x-python",
   "name": "python",
   "nbconvert_exporter": "python",
   "pygments_lexer": "ipython3",
   "version": "3.12.1"
  }
 },
 "nbformat": 4,
 "nbformat_minor": 5
}
