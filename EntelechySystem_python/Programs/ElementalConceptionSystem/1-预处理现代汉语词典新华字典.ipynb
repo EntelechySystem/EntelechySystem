{
 "cells": [
  {
   "cell_type": "markdown",
   "id": "3d553d6b2b89f09e",
   "metadata": {},
   "source": "# 预处理现代汉语词典、新华字典"
  },
  {
   "cell_type": "code",
   "execution_count": 1,
   "id": "7a29faaede9a77ce",
   "metadata": {
    "ExecuteTime": {
     "end_time": "2024-10-24T04:30:48.918067Z",
     "start_time": "2024-10-24T04:30:48.332937Z"
    }
   },
   "outputs": [],
   "source": [
    "from pathlib import Path\n",
    "import pandas as pd\n",
    "import re\n",
    "import sqlite3\n"
   ]
  },
  {
   "cell_type": "markdown",
   "id": "ce2155b194a13a3d",
   "metadata": {},
   "source": [
    "## 配置路径"
   ]
  },
  {
   "cell_type": "code",
   "execution_count": 2,
   "id": "753ad10ef5bca631",
   "metadata": {
    "ExecuteTime": {
     "end_time": "2024-10-24T04:30:53.381424Z",
     "start_time": "2024-10-24T04:30:53.376472Z"
    }
   },
   "outputs": [],
   "source": [
    "# 配置数据集基本路径\n",
    "folderpath_original_data_root = Path.cwd().parent.parent.parent.joinpath('EntelechyData/original')\n",
    "Path.mkdir(folderpath_original_data_root, exist_ok=True)\n",
    "\n",
    "folderpath_pretreat_data_root = Path.cwd().parent.parent.parent.joinpath('EntelechyData/pretreatment')\n",
    "Path.mkdir(folderpath_pretreat_data_root, exist_ok=True)\n"
   ]
  },
  {
   "cell_type": "markdown",
   "id": "ee72f470ccdebd29",
   "metadata": {},
   "source": [
    "## 预处理现代汉语词典"
   ]
  },
  {
   "cell_type": "markdown",
   "id": "6c236e91ccdddd9c",
   "metadata": {},
   "source": [
    "### 导入数据\n",
    "\n",
    "导入 txt 文件格式的词典。"
   ]
  },
  {
   "cell_type": "code",
   "execution_count": 3,
   "id": "babebe01f9efd162",
   "metadata": {
    "ExecuteTime": {
     "end_time": "2024-05-28T15:33:07.140905Z",
     "start_time": "2024-05-28T15:33:06.915016Z"
    }
   },
   "outputs": [],
   "source": [
    "# 导入 txt 文件格式的词典\n",
    "with open(Path(folderpath_original_data_root, '现代汉语词典/现代汉语词典.txt'), 'r', encoding='utf-8') as f:\n",
    "    现代汉语词典_txt = f.readlines()\n"
   ]
  },
  {
   "cell_type": "markdown",
   "id": "4e7c033032f37306",
   "metadata": {},
   "source": [
    "### 匹配字段\n",
    "\n",
    "尝试匹配一些字段"
   ]
  },
  {
   "cell_type": "code",
   "execution_count": 4,
   "id": "cdedfb395c5c0d65",
   "metadata": {
    "ExecuteTime": {
     "end_time": "2024-05-28T15:33:08.821397Z",
     "start_time": "2024-05-28T15:33:08.521035Z"
    }
   },
   "outputs": [],
   "source": [
    "# 匹配字段为 '   word' 的行\n",
    "reg_字段word = re.compile(r'^   word : ')\n",
    "lines_字段word = [i for i in 现代汉语词典_txt if reg_字段word.match(i)]\n",
    "lines_字段word = [reg_字段word.sub('', i).strip() for i in lines_字段word]  # 去掉 '   word : ' 字段"
   ]
  },
  {
   "cell_type": "code",
   "execution_count": 5,
   "id": "b129ee8057770bc6",
   "metadata": {
    "ExecuteTime": {
     "end_time": "2024-05-28T15:33:09.437782Z",
     "start_time": "2024-05-28T15:33:09.135242Z"
    }
   },
   "outputs": [],
   "source": [
    "# 匹配字段为 'content' 的行\n",
    "reg_字段content = re.compile(r'^content : ')\n",
    "lines_字段content = [i for i in 现代汉语词典_txt if reg_字段content.match(i)]\n",
    "lines_字段content = [reg_字段content.sub('', i).strip() for i in lines_字段content]  # 去掉 'content : ' 字段"
   ]
  },
  {
   "cell_type": "code",
   "execution_count": 6,
   "id": "306f8a4f51878d00",
   "metadata": {
    "ExecuteTime": {
     "end_time": "2024-05-28T15:33:09.868719Z",
     "start_time": "2024-05-28T15:33:09.597479Z"
    }
   },
   "outputs": [],
   "source": [
    "# 匹配字段为 '    ord : ' 的行\n",
    "reg_字段ord = re.compile(r'^    ord : ')\n",
    "lines_字段ord = [i for i in 现代汉语词典_txt if reg_字段ord.search(i)]\n",
    "lines_字段ord = [reg_字段ord.sub('', i).strip() for i in lines_字段ord]  # 去掉 '    ord : ' 字段"
   ]
  },
  {
   "cell_type": "code",
   "execution_count": 7,
   "id": "86d29d9370ae791e",
   "metadata": {
    "ExecuteTime": {
     "end_time": "2024-05-28T15:33:10.237358Z",
     "start_time": "2024-05-28T15:33:09.951389Z"
    }
   },
   "outputs": [],
   "source": [
    "# 匹配字段为 '  spell : ' 的行\n",
    "reg_字段spell = re.compile(r'^  spell : ')\n",
    "lines_字段spell = [i for i in 现代汉语词典_txt if reg_字段spell.search(i)]\n",
    "lines_字段spell = [reg_字段spell.sub('', i).strip() for i in lines_字段spell]  # 去掉 '  spell : ' 字段"
   ]
  },
  {
   "cell_type": "markdown",
   "id": "7186f64b72a05187",
   "metadata": {},
   "source": [
    "联合上述字段，生成一个 pandas DataFrame。"
   ]
  },
  {
   "cell_type": "code",
   "execution_count": 8,
   "id": "87d633bda2b3baef",
   "metadata": {
    "ExecuteTime": {
     "end_time": "2024-05-28T15:33:11.375330Z",
     "start_time": "2024-05-28T15:33:11.259623Z"
    }
   },
   "outputs": [],
   "source": [
    "# 生成一个 pandas DataFrame\n",
    "df_现代汉语词典 = pd.DataFrame(columns=['word', 'content', 'ord', 'spell'])\n",
    "df_现代汉语词典['word'] = lines_字段word\n",
    "df_现代汉语词典['content'] = lines_字段content\n",
    "df_现代汉语词典['ord'] = lines_字段ord\n",
    "df_现代汉语词典['spell'] = lines_字段spell\n",
    "# 添加 'id_现代汉语词典' 字段，作为主键，排到第一列\n",
    "df_现代汉语词典['id_现代汉语词典'] = range(1, len(df_现代汉语词典) + 1)\n",
    "df_现代汉语词典 = df_现代汉语词典[['id_现代汉语词典', 'word', 'content', 'ord', 'spell']]"
   ]
  },
  {
   "cell_type": "markdown",
   "id": "aaaab25f8cc01c08",
   "metadata": {},
   "source": [
    "查找词。"
   ]
  },
  {
   "cell_type": "code",
   "execution_count": 10,
   "id": "cbd567aa1d9a9527",
   "metadata": {
    "ExecuteTime": {
     "end_time": "2024-05-18T10:04:53.785734Z",
     "start_time": "2024-05-18T10:04:53.762675Z"
    }
   },
   "outputs": [
    {
     "data": {
      "text/html": [
       "<div>\n",
       "<style scoped>\n",
       "    .dataframe tbody tr th:only-of-type {\n",
       "        vertical-align: middle;\n",
       "    }\n",
       "\n",
       "    .dataframe tbody tr th {\n",
       "        vertical-align: top;\n",
       "    }\n",
       "\n",
       "    .dataframe thead th {\n",
       "        text-align: right;\n",
       "    }\n",
       "</style>\n",
       "<table border=\"1\" class=\"dataframe\">\n",
       "  <thead>\n",
       "    <tr style=\"text-align: right;\">\n",
       "      <th></th>\n",
       "      <th>id_现代汉语词典</th>\n",
       "      <th>word</th>\n",
       "      <th>content</th>\n",
       "      <th>ord</th>\n",
       "      <th>spell</th>\n",
       "    </tr>\n",
       "  </thead>\n",
       "  <tbody>\n",
       "  </tbody>\n",
       "</table>\n",
       "</div>"
      ],
      "text/plain": [
       "Empty DataFrame\n",
       "Columns: [id_现代汉语词典, word, content, ord, spell]\n",
       "Index: []"
      ]
     },
     "execution_count": 10,
     "metadata": {},
     "output_type": "execute_result"
    }
   ],
   "source": [
    "df_现代汉语词典[df_现代汉语词典['word'] == '打']"
   ]
  },
  {
   "cell_type": "markdown",
   "id": "bd8be1c82fed607b",
   "metadata": {},
   "source": [
    "### 导出数据\n",
    "\n",
    "导出为 pkl 文件、sqlite 数据库。"
   ]
  },
  {
   "cell_type": "code",
   "execution_count": 11,
   "id": "3dad334fbb5bac8e",
   "metadata": {
    "ExecuteTime": {
     "end_time": "2024-05-28T15:51:05.249613Z",
     "start_time": "2024-05-28T15:51:05.245846Z"
    }
   },
   "outputs": [],
   "source": [
    "folderpath_pretreat_现代汉语词典 = Path(folderpath_pretreat_data_root, '现代汉语词典')\n",
    "Path.mkdir(folderpath_pretreat_现代汉语词典, exist_ok=True)\n",
    "\n",
    "if not Path(folderpath_pretreat_现代汉语词典, '现代汉语词典.pkl').exists():\n",
    "    df_现代汉语词典.to_pickle(Path(folderpath_pretreat_现代汉语词典, '现代汉语词典.pkl'))  # 导出为 pkl 文件\n",
    "\n",
    "if not Path(folderpath_pretreat_现代汉语词典, '现代汉语词典.db').exists():\n",
    "    conn = sqlite3.connect(Path(folderpath_pretreat_现代汉语词典, '现代汉语词典.db'))  # 导出为 sqlite 数据库"
   ]
  },
  {
   "cell_type": "markdown",
   "id": "3da963cf297e6212",
   "metadata": {},
   "source": [
    "## 预处理新华字典"
   ]
  },
  {
   "cell_type": "markdown",
   "id": "1cfcd77fc1887819",
   "metadata": {},
   "source": [
    "### 导入数据\n",
    "\n",
    "导入 txt 文件格式的词典。"
   ]
  },
  {
   "cell_type": "code",
   "execution_count": 12,
   "id": "fa7c71be18329a93",
   "metadata": {
    "ExecuteTime": {
     "end_time": "2024-05-28T15:51:10.475352Z",
     "start_time": "2024-05-28T15:51:10.348205Z"
    }
   },
   "outputs": [],
   "source": [
    "# 导入 json 文件格式的词典\n",
    "import json\n",
    "\n",
    "新华字典_word_json = json.loads(Path(folderpath_original_data_root, '新华字典/word.json').read_text())"
   ]
  },
  {
   "cell_type": "markdown",
   "id": "3dda3ec951cca7f5",
   "metadata": {},
   "source": [
    "### 匹配字段\n",
    "\n",
    "尝试匹配一些字段"
   ]
  },
  {
   "cell_type": "code",
   "execution_count": 13,
   "id": "b191d66123d956f0",
   "metadata": {
    "ExecuteTime": {
     "end_time": "2024-05-28T15:51:14.312124Z",
     "start_time": "2024-05-28T15:51:13.938340Z"
    }
   },
   "outputs": [],
   "source": [
    "# 匹配字段为 '   word' 的行\n",
    "reg_字段word = re.compile(r'^   word : ')\n",
    "lines_字段word = [i for i in 现代汉语词典_txt if reg_字段word.match(i)]\n",
    "lines_字段word = [reg_字段word.sub('', i).strip() for i in lines_字段word]  # 去掉 '   word : ' 字段"
   ]
  },
  {
   "cell_type": "code",
   "execution_count": null,
   "id": "7fc5739d",
   "metadata": {},
   "outputs": [],
   "source": []
  },
  {
   "cell_type": "markdown",
   "id": "334df2751c27202d",
   "metadata": {},
   "source": [
    "### 转换为 DataFrame \n"
   ]
  },
  {
   "cell_type": "code",
   "execution_count": 14,
   "id": "11b6427b25dfbaa8",
   "metadata": {
    "ExecuteTime": {
     "end_time": "2024-05-28T15:51:25.054651Z",
     "start_time": "2024-05-28T15:51:15.457759Z"
    }
   },
   "outputs": [],
   "source": [
    "columns_新华字典 = 新华字典_word_json[0].keys()\n",
    "df_新华字典 = pd.DataFrame(columns=columns_新华字典)\n",
    "for i, item in enumerate(新华字典_word_json):\n",
    "    df_新华字典.loc[i] = list(item.values())"
   ]
  },
  {
   "cell_type": "markdown",
   "id": "6dacd3f0b29b102a",
   "metadata": {},
   "source": []
  },
  {
   "cell_type": "code",
   "execution_count": null,
   "id": "466595580ac47f53",
   "metadata": {},
   "outputs": [],
   "source": []
  },
  {
   "cell_type": "markdown",
   "id": "24521c6d728f7689",
   "metadata": {},
   "source": [
    "### 导出数据\n",
    "\n",
    "导出为 pkl 文件、sqlite 数据库。"
   ]
  },
  {
   "cell_type": "code",
   "execution_count": 15,
   "id": "669df3c2fda34cc7",
   "metadata": {
    "ExecuteTime": {
     "end_time": "2024-05-28T15:51:59.372441Z",
     "start_time": "2024-05-28T15:51:59.370048Z"
    }
   },
   "outputs": [],
   "source": [
    "folderpath_pretreat_新华字典 = Path(folderpath_pretreat_data_root, f'新华字典')\n",
    "Path.mkdir(folderpath_pretreat_新华字典, exist_ok=True)\n",
    "\n",
    "if not Path(folderpath_pretreat_新华字典, '新华字典.pkl').exists():\n",
    "    df_新华字典.to_pickle(Path(folderpath_pretreat_新华字典, '新华字典.pkl'))  # 导出为 pkl 文件\n",
    "\n",
    "if not Path(folderpath_pretreat_新华字典, '新华字典.db').exists():\n",
    "    conn = sqlite3.connect(Path(folderpath_pretreat_新华字典, '新华字典.db'))  # 导出为 sqlite 数据库"
   ]
  },
  {
   "cell_type": "markdown",
   "id": "8b537055286091ad",
   "metadata": {},
   "source": []
  }
 ],
 "metadata": {
  "kernelspec": {
   "display_name": "venv",
   "language": "python",
   "name": "python3"
  },
  "language_info": {
   "codemirror_mode": {
    "name": "ipython",
    "version": 3
   },
   "file_extension": ".py",
   "mimetype": "text/x-python",
   "name": "python",
   "nbconvert_exporter": "python",
   "pygments_lexer": "ipython3",
   "version": "3.12.1"
  }
 },
 "nbformat": 4,
 "nbformat_minor": 5
}
